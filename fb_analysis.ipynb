{
 "cells": [
  {
   "cell_type": "markdown",
   "metadata": {
    "collapsed": true
   },
   "source": [
    "# 1. 選定三個粉絲頁：\n",
    "#####  100489613340306 SAMSUNG Mobile Taiwan\n",
    "#####  131307770301236 WATSONS Taiwan\n",
    "#####  203507002993446 PChome"
   ]
  },
  {
   "cell_type": "code",
   "execution_count": 1,
   "metadata": {
    "collapsed": true
   },
   "outputs": [],
   "source": [
    "fanpage=['100489613340306','131307770301236','203507002993446']"
   ]
  },
  {
   "cell_type": "markdown",
   "metadata": {},
   "source": [
    "# 2. 統計該三個粉絲頁的基本資訊，包含：start date time, end date time, # of fans、# of posts、# of likes、like from unique users、comment from unique user、"
   ]
  },
  {
   "cell_type": "code",
   "execution_count": 2,
   "metadata": {
    "collapsed": true
   },
   "outputs": [],
   "source": [
    " # -*- coding: utf-8 -*-\n",
    "import pyes\n",
    "import elasticsearch\n",
    "import json"
   ]
  },
  {
   "cell_type": "code",
   "execution_count": 3,
   "metadata": {
    "collapsed": false
   },
   "outputs": [],
   "source": [
    "# Connecting to elasticsearch server\n",
    "es_address='140.118.109.114:9200'\n",
    "conn = pyes.es.ES(es_address)\n",
    "conn.default_indices=[\"facebook_nested\"]"
   ]
  },
  {
   "cell_type": "code",
   "execution_count": 4,
   "metadata": {
    "collapsed": true
   },
   "outputs": [],
   "source": [
    "# doc_types: fanpage,post,like,comment\n",
    "def query(fid,doc_types):\n",
    "    tq = pyes.query.TermQuery(field=\"fid\",value=fid)\n",
    "    qsearch = pyes.query.Search(tq,size=5000)\n",
    "    result = conn.search(query=qsearch , doc_types=doc_types,size=5000)\n",
    "    return result"
   ]
  },
  {
   "cell_type": "code",
   "execution_count": 5,
   "metadata": {
    "collapsed": true
   },
   "outputs": [],
   "source": [
    "def query_agg(fid,doc_types,agg_field):\n",
    "    tq = pyes.query.TermQuery(field=\"fid\",value=fid)\n",
    "    tagg_comment = pyes.aggs.TermsAgg('genres',field=agg_field,size=0)\n",
    "    qsearch = pyes.query.Search(tq)\n",
    "    qsearch.agg.add(tagg_comment)\n",
    "    result = conn.search(query=qsearch , doc_types=doc_types)\n",
    "    return result"
   ]
  },
  {
   "cell_type": "code",
   "execution_count": 6,
   "metadata": {
    "collapsed": true
   },
   "outputs": [],
   "source": [
    "# initialize fanpage object with fanpage id and fanpage source from es/fanpage\n",
    "class fanpage:\n",
    "    def __init__(self, fid):\n",
    "        self.fid=fid\n",
    "    def name(self):\n",
    "        return query(self.fid,\"fanpage\").hits[0]['_source']['name']\n",
    "    def num_fans(self):\n",
    "        return query(self.fid,\"fanpage\").hits[0]['_source']['likes_count']\n",
    "    def num_posts(self):\n",
    "        return query(self.fid,\"post\").total\n",
    "    def num_likes(self):\n",
    "        return query(self.fid,\"like\").total\n",
    "    def num_comments(self):\n",
    "        return query(self.fid,\"comment\").total\n",
    "    def num_user_like(self):\n",
    "        result = query_agg(self.fid,\"like\",\"uid\")\n",
    "        return len(result.aggs['genres']['buckets'])\n",
    "    def num_user_comment(self):\n",
    "        result = query_agg(self.fid,\"comment\",\"from.name\")\n",
    "        return len(result.aggs['genres']['buckets'])"
   ]
  },
  {
   "cell_type": "code",
   "execution_count": 7,
   "metadata": {
    "collapsed": false
   },
   "outputs": [],
   "source": [
    "fp_samsung = fanpage('100489613340306')\n",
    "fp_watsons = fanpage('131307770301236')\n",
    "fp_pchome = fanpage('203507002993446')"
   ]
  },
  {
   "cell_type": "code",
   "execution_count": 92,
   "metadata": {
    "collapsed": false
   },
   "outputs": [
    {
     "name": "stdout",
     "output_type": "stream",
     "text": [
      "name: Samsung Mobile Taiwan\n",
      "# of fans: 1025150\n",
      "# of posts: 4238\n",
      "# of likes: 7719913\n",
      "like from unique users: 1257243\n",
      "comment from unique user: 100625\n"
     ]
    }
   ],
   "source": [
    "print \"name:\", fp_samsung.name()\n",
    "print '# of fans:', fp_samsung.num_fans()\n",
    "print '# of posts:', fp_samsung.num_posts()\n",
    "print '# of likes:', fp_samsung.num_likes()\n",
    "print 'like from unique users:', fp_samsung.num_user_like()\n",
    "print 'comment from unique user:',fp_samsung.num_user_comment()"
   ]
  },
  {
   "cell_type": "code",
   "execution_count": 93,
   "metadata": {
    "collapsed": false
   },
   "outputs": [
    {
     "name": "stdout",
     "output_type": "stream",
     "text": [
      "name: 屈臣氏 Watsons Taiwan\n",
      "# of fans: 790929\n",
      "# of posts: 4006\n",
      "# of likes: 2474094\n",
      "like from unique users: 572494\n",
      "comment from unique user: 69319\n"
     ]
    }
   ],
   "source": [
    "print \"name:\", fp_watsons.name()\n",
    "print '# of fans:', fp_watsons.num_fans()\n",
    "print '# of posts:', fp_watsons.num_posts()\n",
    "print '# of likes:', fp_watsons.num_likes()\n",
    "print 'like from unique users:', fp_watsons.num_user_like()\n",
    "print 'comment from unique user:',fp_watsons.num_user_comment()"
   ]
  },
  {
   "cell_type": "code",
   "execution_count": 94,
   "metadata": {
    "collapsed": false
   },
   "outputs": [
    {
     "name": "stdout",
     "output_type": "stream",
     "text": [
      "name: PChome 24h購物\n",
      "# of fans: 254630\n",
      "# of posts: 3597\n",
      "# of likes: 1595130\n",
      "like from unique users: 372027\n",
      "comment from unique user: 78992\n"
     ]
    }
   ],
   "source": [
    "print \"name:\", fp_pchome.name()\n",
    "print '# of fans:', fp_pchome.num_fans()\n",
    "print '# of posts:', fp_pchome.num_posts()\n",
    "print '# of likes:', fp_pchome.num_likes()\n",
    "print 'like from unique users:', fp_pchome.num_user_like()\n",
    "print 'comment from unique user:',fp_pchome.num_user_comment()"
   ]
  },
  {
   "cell_type": "markdown",
   "metadata": {
    "collapsed": true
   },
   "source": [
    "# 3. 三個粉絲頁box plot against to the # of comments for each post"
   ]
  },
  {
   "cell_type": "code",
   "execution_count": 10,
   "metadata": {
    "collapsed": false
   },
   "outputs": [],
   "source": [
    "#print samsung_comment_count.hits[0]['_source']['comment_count'] 取用termquery拿回來的東西"
   ]
  },
  {
   "cell_type": "code",
   "execution_count": 11,
   "metadata": {
    "collapsed": false
   },
   "outputs": [],
   "source": [
    "#print len(samsung_comment_count.hits)"
   ]
  },
  {
   "cell_type": "code",
   "execution_count": 12,
   "metadata": {
    "collapsed": true
   },
   "outputs": [],
   "source": [
    "import matplotlib.pyplot as plt\n",
    "import numpy as np"
   ]
  },
  {
   "cell_type": "code",
   "execution_count": 13,
   "metadata": {
    "collapsed": true
   },
   "outputs": [],
   "source": [
    "def num_comment_on_post(fid):\n",
    "    result = []\n",
    "    es_post = query(fid,'post')\n",
    "    for post in es_post.hits:\n",
    "        result.append(post['_source']['comment_count'])\n",
    "    return result"
   ]
  },
  {
   "cell_type": "code",
   "execution_count": 14,
   "metadata": {
    "collapsed": false
   },
   "outputs": [],
   "source": [
    "list_samsung_box= num_comment_on_post('100489613340306')"
   ]
  },
  {
   "cell_type": "code",
   "execution_count": 15,
   "metadata": {
    "collapsed": true
   },
   "outputs": [],
   "source": [
    "list_watsons_box= num_comment_on_post('131307770301236')"
   ]
  },
  {
   "cell_type": "code",
   "execution_count": 16,
   "metadata": {
    "collapsed": true
   },
   "outputs": [],
   "source": [
    "list_pchome_box= num_comment_on_post('203507002993446')"
   ]
  },
  {
   "cell_type": "code",
   "execution_count": 17,
   "metadata": {
    "collapsed": false
   },
   "outputs": [
    {
     "data": {
      "image/png": "[encoded data removed]",
      "text/plain": [
       "<matplotlib.figure.Figure at 0x10c9c06d0>"
      ]
     },
     "metadata": {},
     "output_type": "display_data"
    }
   ],
   "source": [
    "# exclue outlier\n",
    "plt.figure()\n",
    "plt.boxplot([list_samsung_box,list_watsons_box,list_pchome_box],2,'')\n",
    "plt.xticks([1,2,3],['Samsung','Watsons','PChome'])\n",
    "plt.show()"
   ]
  },
  {
   "cell_type": "markdown",
   "metadata": {},
   "source": [
    "# 4. 三個粉絲頁個別的 (#) of post,  (# /  ratio) of post with sharing,  (# / ratio) of post with friend tagging "
   ]
  },
  {
   "cell_type": "code",
   "execution_count": 18,
   "metadata": {
    "collapsed": true
   },
   "outputs": [],
   "source": [
    "import pandas as pd"
   ]
  },
  {
   "cell_type": "code",
   "execution_count": 19,
   "metadata": {
    "collapsed": true
   },
   "outputs": [],
   "source": [
    "# 輸入fanpage id 回傳全部fid_pid\n",
    "def get_all_post_id(fid):\n",
    "    result = []\n",
    "    es_post = query(fid,'post')\n",
    "    for post in es_post.hits:\n",
    "        result.append(post['_source']['id'])\n",
    "    return result"
   ]
  },
  {
   "cell_type": "code",
   "execution_count": 20,
   "metadata": {
    "collapsed": true
   },
   "outputs": [],
   "source": [
    "# 輸入fid_pid 回傳share_count\n",
    "def get_share_count(fid_pid):\n",
    "    tq = pyes.query.TermQuery(field=\"_id\",value=fid_pid)\n",
    "    qsearch = pyes.query.Search(tq)\n",
    "    result = conn.search(query=qsearch , doc_types=\"post\")\n",
    "    return result.hits[0][\"_source\"]['shares']['count']"
   ]
  },
  {
   "cell_type": "code",
   "execution_count": 21,
   "metadata": {
    "collapsed": false
   },
   "outputs": [],
   "source": [
    "# 輸入fid 回傳由fid, share_count組合而成的0維list\n",
    "def make_table(fid):\n",
    "    result = []\n",
    "    all_fid_pid = get_all_post_id(fid)\n",
    "    for fid_pid in all_fid_pid:\n",
    "        try:\n",
    "            share_count = get_share_count(fid_pid)\n",
    "        except:\n",
    "            share_count = np.NaN\n",
    "        result.append([fid_pid,share_count])\n",
    "    return result"
   ]
  },
  {
   "cell_type": "code",
   "execution_count": 22,
   "metadata": {
    "collapsed": false
   },
   "outputs": [],
   "source": [
    "tmp = make_table('203507002993446')"
   ]
  },
  {
   "cell_type": "code",
   "execution_count": 23,
   "metadata": {
    "collapsed": false
   },
   "outputs": [],
   "source": [
    "# 使用np.array轉成二維ndarray\n",
    "np_tmp = np.array(tmp)"
   ]
  },
  {
   "cell_type": "code",
   "execution_count": 24,
   "metadata": {
    "collapsed": false
   },
   "outputs": [
    {
     "data": {
      "text/plain": [
       "(3597, 2)"
      ]
     },
     "execution_count": 24,
     "metadata": {},
     "output_type": "execute_result"
    }
   ],
   "source": [
    "np_tmp.shape"
   ]
  },
  {
   "cell_type": "code",
   "execution_count": 25,
   "metadata": {
    "collapsed": false
   },
   "outputs": [
    {
     "data": {
      "text/plain": [
       "array([[u'203507002993446_1165621306782006', u'nan'],\n",
       "       [u'203507002993446_1003217163022422', u'4'],\n",
       "       [u'203507002993446_846903141987159', u'nan'],\n",
       "       ..., \n",
       "       [u'203507002993446_1202963469714456', u'1'],\n",
       "       [u'203507002993446_1198770016800468', u'7'],\n",
       "       [u'203507002993446_1195610553783081', u'nan']], \n",
       "      dtype='<U33')"
      ]
     },
     "execution_count": 25,
     "metadata": {},
     "output_type": "execute_result"
    }
   ],
   "source": [
    "np_tmp"
   ]
  },
  {
   "cell_type": "code",
   "execution_count": 26,
   "metadata": {
    "collapsed": false
   },
   "outputs": [
    {
     "data": {
      "text/html": [
       "<div>\n",
       "<table border=\"1\" class=\"dataframe\">\n",
       "  <thead>\n",
       "    <tr style=\"text-align: right;\">\n",
       "      <th></th>\n",
       "      <th>fid_pid</th>\n",
       "      <th>share_count</th>\n",
       "    </tr>\n",
       "  </thead>\n",
       "  <tbody>\n",
       "    <tr>\n",
       "      <th>0</th>\n",
       "      <td>203507002993446_1165621306782006</td>\n",
       "      <td>nan</td>\n",
       "    </tr>\n",
       "    <tr>\n",
       "      <th>1</th>\n",
       "      <td>203507002993446_1003217163022422</td>\n",
       "      <td>4</td>\n",
       "    </tr>\n",
       "    <tr>\n",
       "      <th>2</th>\n",
       "      <td>203507002993446_846903141987159</td>\n",
       "      <td>nan</td>\n",
       "    </tr>\n",
       "    <tr>\n",
       "      <th>3</th>\n",
       "      <td>203507002993446_853586914652115</td>\n",
       "      <td>1</td>\n",
       "    </tr>\n",
       "    <tr>\n",
       "      <th>4</th>\n",
       "      <td>203507002993446_850690228275117</td>\n",
       "      <td>51</td>\n",
       "    </tr>\n",
       "    <tr>\n",
       "      <th>5</th>\n",
       "      <td>203507002993446_849875501689923</td>\n",
       "      <td>1</td>\n",
       "    </tr>\n",
       "    <tr>\n",
       "      <th>6</th>\n",
       "      <td>203507002993446_847899108554229</td>\n",
       "      <td>1</td>\n",
       "    </tr>\n",
       "    <tr>\n",
       "      <th>7</th>\n",
       "      <td>203507002993446_847492885261518</td>\n",
       "      <td>nan</td>\n",
       "    </tr>\n",
       "    <tr>\n",
       "      <th>8</th>\n",
       "      <td>203507002993446_1043738908970247</td>\n",
       "      <td>8</td>\n",
       "    </tr>\n",
       "    <tr>\n",
       "      <th>9</th>\n",
       "      <td>203507002993446_1004111512932987</td>\n",
       "      <td>1</td>\n",
       "    </tr>\n",
       "  </tbody>\n",
       "</table>\n",
       "</div>"
      ],
      "text/plain": [
       "                            fid_pid share_count\n",
       "0  203507002993446_1165621306782006         nan\n",
       "1  203507002993446_1003217163022422           4\n",
       "2   203507002993446_846903141987159         nan\n",
       "3   203507002993446_853586914652115           1\n",
       "4   203507002993446_850690228275117          51\n",
       "5   203507002993446_849875501689923           1\n",
       "6   203507002993446_847899108554229           1\n",
       "7   203507002993446_847492885261518         nan\n",
       "8  203507002993446_1043738908970247           8\n",
       "9  203507002993446_1004111512932987           1"
      ]
     },
     "execution_count": 26,
     "metadata": {},
     "output_type": "execute_result"
    }
   ],
   "source": [
    "pd.DataFrame(data=np_tmp,columns=['fid_pid','share_count']).iloc[0:10]"
   ]
  },
  {
   "cell_type": "markdown",
   "metadata": {},
   "source": [
    "# 5. 各個粉絲頁每月po文的comment變化(max, min, mean)"
   ]
  },
  {
   "cell_type": "code",
   "execution_count": 27,
   "metadata": {
    "collapsed": true
   },
   "outputs": [],
   "source": [
    "# 輸入fid 回傳es_multi aggregation結果\n",
    "def get_comment_by_month(fid):\n",
    "    q = pyes.query.TermQuery(field=\"fid\",value=fid)\n",
    "    tagg = pyes.aggs.DateHistogramAgg('post_over_time', field= 'created_time',interval=\"1M\",format=\"yyyy-MM-dd'T'HH:mm:ssZZZZZ\",sub_aggs=[])\n",
    "    tagg1= pyes.aggs.TermsAgg('comment_over_post',field='fid_pid',size=5000)\n",
    "    tagg.sub_aggs.append(tagg1)\n",
    "    qsearch = pyes.query.Search(q)\n",
    "\n",
    "    qsearch.agg.add(tagg)\n",
    "    es_result = conn.search(query=qsearch , doc_types='comment') \n",
    "    return es_result"
   ]
  },
  {
   "cell_type": "code",
   "execution_count": 116,
   "metadata": {
    "collapsed": false
   },
   "outputs": [],
   "source": [
    "# 輸入第一層脫殼結果post_over_time，回傳dict by month{\"month\":XXXX,\"count\":123,12,11,12...}\n",
    "def dict_per_month(bucket_month):\n",
    "    dict_result = {}\n",
    "    dict_result['month']=bucket_month['key_as_string']\n",
    "    dict_result['count']=[]\n",
    "    for comment in bucket_month['comment_over_post']['buckets']:\n",
    "        dict_result['count'].append(comment['doc_count'])\n",
    "    if len(dict_result['count'])==0:\n",
    "        dict_result['count'].append(0)\n",
    "    return dict_result"
   ]
  },
  {
   "cell_type": "code",
   "execution_count": 117,
   "metadata": {
    "collapsed": true
   },
   "outputs": [],
   "source": [
    "# 輸入fid, 回傳list 包含該fanpage的所有dict by month\n",
    "def list_comment_month(fid):\n",
    "    list_result = []\n",
    "    es_result = get_comment_by_month(fid)\n",
    "    for bucket_month in es_result.aggs['post_over_time']['buckets']:\n",
    "        dict_result = dict_per_month(bucket_month)\n",
    "        list_result.append(dict_result)\n",
    "    return list_result "
   ]
  },
  {
   "cell_type": "code",
   "execution_count": 107,
   "metadata": {
    "collapsed": false
   },
   "outputs": [],
   "source": [
    "samsung_comment_monthly = list_comment_month('100489613340306')\n",
    "watsons_comment_monthly = list_comment_month('131307770301236')"
   ]
  },
  {
   "cell_type": "code",
   "execution_count": 118,
   "metadata": {
    "collapsed": true
   },
   "outputs": [],
   "source": [
    "pchome_comment_monthly = list_comment_month('203507002993446')"
   ]
  },
  {
   "cell_type": "code",
   "execution_count": 31,
   "metadata": {
    "collapsed": false
   },
   "outputs": [],
   "source": [
    "def tick_data(dict_monthly):\n",
    "    result = []\n",
    "    for i in dict_monthly:\n",
    "        result.append(i['count'])\n",
    "    return result"
   ]
  },
  {
   "cell_type": "code",
   "execution_count": 32,
   "metadata": {
    "collapsed": true
   },
   "outputs": [],
   "source": [
    "def tick_label(dict_monthly):\n",
    "    result = []\n",
    "    for i in dict_monthly:\n",
    "        result.append(i['month'][0:10])\n",
    "    return result"
   ]
  },
  {
   "cell_type": "code",
   "execution_count": 33,
   "metadata": {
    "collapsed": false
   },
   "outputs": [
    {
     "data": {
      "text/plain": [
       "<matplotlib.text.Text at 0x10e6d8910>"
      ]
     },
     "execution_count": 33,
     "metadata": {},
     "output_type": "execute_result"
    }
   ],
   "source": [
    "plt.figure(figsize=(15,10),num=\"Samsung\")\n",
    "plt.boxplot(tick_data(samsung_comment_monthly),0,\"\")\n",
    "plt.xticks([x+1 for x in range(len(samsung_comment_monthly))],tick_label(samsung_comment_monthly),rotation='vertical')\n",
    "plt.ylabel(\"# of comment per post\",fontsize=15)\n",
    "plt.title(\"SAMSUNG\",fontsize=30)\n",
    "#plt.show()"
   ]
  },
  {
   "cell_type": "code",
   "execution_count": 34,
   "metadata": {
    "collapsed": false
   },
   "outputs": [
    {
     "data": {
      "image/png": "[encoded data removed]",
      "text/plain": [
       "<matplotlib.figure.Figure at 0x113624ad0>"
      ]
     },
     "metadata": {},
     "output_type": "display_data"
    }
   ],
   "source": [
    "l = tick_data(samsung_comment_monthly)\n",
    "for i in range(len(l)):\n",
    "    lo=plt.scatter(i,sum(l[i])/len(l[i]),label=\"mean\",marker=\"s\",color=\"green\",s=80)\n",
    "    ll=plt.scatter(i,max(l[i]),marker=\"^\",color=\"red\",s=80)\n",
    "    a=plt.scatter(i,min(l[i]),marker=\"v\",color=\"orange\",s=80)\n",
    "plt.legend((lo,ll,a),('mean','max','min'),loc='best')\n",
    "plt.show()"
   ]
  },
  {
   "cell_type": "code",
   "execution_count": 119,
   "metadata": {
    "collapsed": false
   },
   "outputs": [
    {
     "data": {
      "image/png": "[encoded data removed]",
      "text/plain": [
       "<matplotlib.figure.Figure at 0x123f2e710>"
      ]
     },
     "metadata": {},
     "output_type": "display_data"
    }
   ],
   "source": [
    "plt.figure(figsize=(15,10),num=\"PChome\")\n",
    "plt.boxplot(tick_data(pchome_comment_monthly),0,\"\")\n",
    "plt.xticks([x+1 for x in range(len(pchome_comment_monthly))],tick_label(pchome_comment_monthly),rotation='vertical')\n",
    "plt.ylabel(\"# of comment per post\",fontsize=15)\n",
    "plt.title(\"PChome\",fontsize=30)\n",
    "\n",
    "l = tick_data(pchome_comment_monthly)\n",
    "for i in range(len(l)):\n",
    "    lo=plt.scatter(i,sum(l[i])/len(l[i]),label=\"mean\",marker=\"s\",color=\"green\",s=80)\n",
    "    ll=plt.scatter(i,max(l[i]),marker=\"^\",color=\"red\",s=80)\n",
    "    a=plt.scatter(i,min(l[i]),marker=\"v\",color=\"orange\",s=80)\n",
    "plt.legend((lo,ll,a),('mean','max','min'),loc='best')\n",
    "plt.show()"
   ]
  },
  {
   "cell_type": "markdown",
   "metadata": {},
   "source": [
    "# 6. 每個粉絲頁每月po文的like變化(max, min, mean)"
   ]
  },
  {
   "cell_type": "code",
   "execution_count": 35,
   "metadata": {
    "collapsed": true
   },
   "outputs": [],
   "source": [
    "# 輸入fid 回傳es_multi aggregation結果\n",
    "def get_post_by_month(fid):\n",
    "    q = pyes.query.TermQuery(field=\"fid\",value=fid)\n",
    "    tagg = pyes.aggs.DateHistogramAgg('post_over_time', field= 'created_time',interval=\"1M\",format=\"yyyy-MM-dd'T'HH:mm:ssZZZZZ\",sub_aggs=[])\n",
    "    tagg1= pyes.aggs.TermsAgg('time_over_post',field='id',size=5000)\n",
    "    tagg.sub_aggs.append(tagg1)\n",
    "    qsearch = pyes.query.Search(q)\n",
    "\n",
    "    qsearch.agg.add(tagg)\n",
    "    es_result = conn.search(query=qsearch , doc_types='post') \n",
    "    return es_result"
   ]
  },
  {
   "cell_type": "code",
   "execution_count": 36,
   "metadata": {
    "collapsed": true
   },
   "outputs": [],
   "source": [
    "# 輸入第一層脫殼結果post_over_time，回傳dict by month{\"month\":XXXX,\"fid_pid\":123,12,11,12...}\n",
    "def fidpid_dict_per_month(bucket_month):\n",
    "    dict_result = {}\n",
    "    dict_result['month']=bucket_month['key_as_string']\n",
    "    dict_result['fid_pid']=[]\n",
    "    for time in bucket_month['time_over_post']['buckets']:\n",
    "        dict_result['fid_pid'].append(time['key'])\n",
    "    return dict_result"
   ]
  },
  {
   "cell_type": "code",
   "execution_count": 37,
   "metadata": {
    "collapsed": true
   },
   "outputs": [],
   "source": [
    "# 輸入fid, 回傳list 包含該fanpage的所有dict by month\n",
    "def list_fidpid_month(fid):\n",
    "    list_result = []\n",
    "    es_result = get_post_by_month(fid)\n",
    "    for bucket_month in es_result.aggs['post_over_time']['buckets']:\n",
    "        dict_result = fidpid_dict_per_month(bucket_month)\n",
    "        list_result.append(dict_result)\n",
    "    return list_result "
   ]
  },
  {
   "cell_type": "code",
   "execution_count": 38,
   "metadata": {
    "collapsed": true
   },
   "outputs": [],
   "source": [
    "samsung_fidpid_monthly = list_fidpid_month('100489613340306')"
   ]
  },
  {
   "cell_type": "code",
   "execution_count": 39,
   "metadata": {
    "collapsed": true
   },
   "outputs": [],
   "source": [
    "# doc_types: fanpage,post,like,comment\n",
    "def like_query(fid_pid):\n",
    "    tq = pyes.query.TermQuery(field=\"id\",value=fid_pid)\n",
    "    qsearch = pyes.query.Search(tq,size=5000)\n",
    "    result = conn.search(query=qsearch , doc_types=\"post\",size=5000)\n",
    "    return result.hits[0]['_source']['likes_count']"
   ]
  },
  {
   "cell_type": "code",
   "execution_count": 40,
   "metadata": {
    "collapsed": true
   },
   "outputs": [],
   "source": [
    "def list_like_month(list_fidpid_monthly):\n",
    "    list_like_monthly = list_fidpid_monthly\n",
    "    for i in list_like_monthly:\n",
    "        like = []\n",
    "        for j in i['fid_pid']:\n",
    "            like.append(like_query(j))\n",
    "        i['count']=like\n",
    "    return list_like_monthly"
   ]
  },
  {
   "cell_type": "code",
   "execution_count": 41,
   "metadata": {
    "collapsed": false
   },
   "outputs": [],
   "source": [
    "samsung_like_monthly = list_like_month(samsung_fidpid_monthly)"
   ]
  },
  {
   "cell_type": "code",
   "execution_count": 42,
   "metadata": {
    "collapsed": true
   },
   "outputs": [],
   "source": [
    "tmp = tick_data(samsung_like_monthly)"
   ]
  },
  {
   "cell_type": "code",
   "execution_count": 43,
   "metadata": {
    "collapsed": false
   },
   "outputs": [
    {
     "data": {
      "text/plain": [
       "<matplotlib.text.Text at 0x10ed96690>"
      ]
     },
     "execution_count": 43,
     "metadata": {},
     "output_type": "execute_result"
    }
   ],
   "source": [
    "plt.figure(figsize=(15,10))\n",
    "plt.boxplot(tick_data(samsung_like_monthly),0,\"\")\n",
    "plt.xticks([x+1 for x in range(len(samsung_like_monthly))],tick_label(samsung_like_monthly),rotation='vertical')\n",
    "plt.ylabel(\"# of like per post\",fontsize=15)\n",
    "plt.title(\"SAMSUNG\",fontsize=30)\n",
    "#plt.show()"
   ]
  }
 ],
 "metadata": {
  "kernelspec": {
   "display_name": "Python 2",
   "language": "python",
   "name": "python2"
  },
  "language_info": {
   "codemirror_mode": {
    "name": "ipython",
    "version": 2
   },
   "file_extension": ".py",
   "mimetype": "text/x-python",
   "name": "python",
   "nbconvert_exporter": "python",
   "pygments_lexer": "ipython2",
   "version": "2.7.10"
  }
 },
 "nbformat": 4,
 "nbformat_minor": 1
}
